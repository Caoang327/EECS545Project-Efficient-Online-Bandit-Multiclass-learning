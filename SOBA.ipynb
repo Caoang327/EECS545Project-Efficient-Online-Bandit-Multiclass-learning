{
 "cells": [
  {
   "cell_type": "code",
   "execution_count": 14,
   "metadata": {},
   "outputs": [],
   "source": [
    "import numpy as np\n",
    "\n",
    "'''\n",
    "generate data set SYNSEP\n",
    "a 9-class, 400-dimensional synthetic data set of size 10^6\n",
    "'''\n",
    "d = 400  # number of features\n",
    "K = 9  # number of classes\n",
    "n = 100  # number of data\n",
    "# generate the fixed 9 bit-vectors\n",
    "V = np.zeros([d, K], int)\n",
    "idx_support = np.zeros([120, 9], int)\n",
    "Nsupport = np.zeros([9], int)\n",
    "for i in range(K):\n",
    "    idx_permuted = np.random.permutation(range(120))\n",
    "    idx_support[:, i] = idx_permuted\n",
    "    Nsupport[i] = np.random.randint(20, 41)\n",
    "    V[idx_permuted[:Nsupport[i]], i] = np.ones([Nsupport[i]])\n"
   ]
  },
  {
   "cell_type": "code",
   "execution_count": 15,
   "metadata": {},
   "outputs": [],
   "source": [
    "# generate the data set\n",
    "X = np.zeros([d, n])\n",
    "for i in range(n):\n",
    "    j = np.random.randint(0, 9)\n",
    "    X[:, i] = V[:, j]\n",
    "    idx_turnoff = np.random.permutation(idx_support[:Nsupport[j], j])[:5]\n",
    "    idx_turnon = np.random.permutation(range(120, 400))[:20]\n",
    "    X[idx_turnoff, i] = np.zeros([5])\n",
    "    X[idx_turnon, i] = np.ones([20])"
   ]
  },
  {
   "cell_type": "code",
   "execution_count": 25,
   "metadata": {},
   "outputs": [],
   "source": [
    "'''\n",
    "Second Order Banditron Algorithm\n",
    "'''\n",
    "# initialization\n",
    "a = 1  # regularization parameter\n",
    "gamma = 2e-7  # exploration parameter\n",
    "T = 100  # number of rounds\n",
    "W1 = np.zeros([K, d])\n",
    "A0 = a * np.eye(K*d)\n",
    "theta0 = np.zeros([K*d])"
   ]
  },
  {
   "cell_type": "code",
   "execution_count": 36,
   "metadata": {},
   "outputs": [
    {
     "data": {
      "text/plain": [
       "array([0., 0., 0., ..., 0., 0., 0.])"
      ]
     },
     "execution_count": 36,
     "metadata": {},
     "output_type": "execute_result"
    }
   ],
   "source": []
  },
  {
   "cell_type": "code",
   "execution_count": null,
   "metadata": {},
   "outputs": [],
   "source": []
  }
 ],
 "metadata": {
  "kernelspec": {
   "display_name": "Python 3",
   "language": "python",
   "name": "python3"
  },
  "language_info": {
   "codemirror_mode": {
    "name": "ipython",
    "version": 3
   },
   "file_extension": ".py",
   "mimetype": "text/x-python",
   "name": "python",
   "nbconvert_exporter": "python",
   "pygments_lexer": "ipython3",
   "version": "3.6.5"
  }
 },
 "nbformat": 4,
 "nbformat_minor": 2
}
