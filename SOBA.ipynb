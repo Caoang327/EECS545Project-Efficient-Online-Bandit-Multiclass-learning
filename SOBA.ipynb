{
 "cells": [
  {
   "cell_type": "code",
   "execution_count": 44,
   "metadata": {},
   "outputs": [],
   "source": [
    "import numpy as np\n",
    "\n",
    "'''\n",
    "generate data set SYNSEP\n",
    "a 9-class, 400-dimensional synthetic data set of size 10^6\n",
    "'''\n",
    "d = 400  # number of features\n",
    "K = 9  # number of classes\n",
    "n = 100000  # number of data\n",
    "# generate the fixed 9 bit-vectors\n",
    "V = np.zeros([d, K], int)\n",
    "idx_support = np.zeros([120, 9], int)\n",
    "Nsupport = np.zeros([9], int)\n",
    "for i in range(K):\n",
    "    idx_permuted = np.random.permutation(range(120))\n",
    "    idx_support[:, i] = idx_permuted\n",
    "    Nsupport[i] = np.random.randint(20, 41)\n",
    "    V[idx_permuted[:Nsupport[i]], i] = np.ones([Nsupport[i]])\n"
   ]
  },
  {
   "cell_type": "code",
   "execution_count": 45,
   "metadata": {},
   "outputs": [],
   "source": [
    "# generate the data set\n",
    "X = np.zeros([d, n])\n",
    "y = np.zeros([n])\n",
    "for i in range(n):\n",
    "    j = np.random.randint(0, 9)\n",
    "    y[i] = j+1\n",
    "    X[:, i] = V[:, j]\n",
    "    idx_turnoff = np.random.permutation(idx_support[:Nsupport[j], j])[:5]\n",
    "    idx_turnon = np.random.permutation(range(120, 400))[:20]\n",
    "    X[idx_turnoff, i] = np.zeros([5])\n",
    "    X[idx_turnon, i] = np.ones([20])"
   ]
  },
  {
   "cell_type": "code",
   "execution_count": 46,
   "metadata": {},
   "outputs": [
    {
     "data": {
      "text/plain": [
       "0.88191"
      ]
     },
     "execution_count": 46,
     "metadata": {},
     "output_type": "execute_result"
    }
   ],
   "source": [
    "'''\n",
    "Second Order Banditron Algorithm\n",
    "'''\n",
    "# initialization\n",
    "a = 1  # regularization parameter\n",
    "gamma = 0.01  # exploration parameter\n",
    "T = n  # number of rounds\n",
    "W = np.zeros([K, d])\n",
    "A = a * np.ones([K*d])\n",
    "theta = np.zeros([K*d])\n",
    "E = np.eye(K)\n",
    "cumulative_margin = 0\n",
    "z = np.zeros([K*d])\n",
    "g = np.zeros([K*d])\n",
    "correct = 0\n",
    "# SOBA algorithm\n",
    "for t in range(T):\n",
    "    Wx = W.dot(X[:, t])\n",
    "    yhat = np.argmax(Wx) + 1\n",
    "    p = (1-gamma) * E[:, yhat-1] + gamma / K * np.ones([K])\n",
    "    rand_num = np.random.random()\n",
    "    for i in range(K):\n",
    "        if sum(p[:i+1]) >= rand_num:\n",
    "            ytilde = i+1\n",
    "            break\n",
    "    nt = 0\n",
    "    if ytilde == y[t]:\n",
    "        correct += 1\n",
    "        Wx_bar = np.zeros([K-1])\n",
    "        Wx_bar[:ytilde-1] = Wx[:ytilde-1]\n",
    "        Wx_bar[ytilde-1:] = Wx[ytilde:]\n",
    "        ybar = np.argmax(Wx)+1\n",
    "        g = 1 / p[ytilde-1] * np.kron(E[:, ybar-1]-E[:, ytilde-1], X[:, t])\n",
    "        z = np.sqrt(p[ytilde-1]) * g\n",
    "        m = (sum(W.reshape(-1, 1)*z.reshape(-1, 1))**2 + 2*sum(W.reshape(-1, 1)*g.reshape(-1, 1))) / (1 + sum(z*z/A))\n",
    "        if cumulative_margin+m >= 0:\n",
    "            nt = 1\n",
    "        cumulative_margin += nt*m\n",
    "    A += nt*z*z\n",
    "    theta -= nt*g\n",
    "    W = (theta/A).reshape(K, d)\n",
    "print(correct/T)"
   ]
  }
 ],
 "metadata": {
  "kernelspec": {
   "display_name": "Python 3",
   "language": "python",
   "name": "python3"
  },
  "language_info": {
   "codemirror_mode": {
    "name": "ipython",
    "version": 3
   },
   "file_extension": ".py",
   "mimetype": "text/x-python",
   "name": "python",
   "nbconvert_exporter": "python",
   "pygments_lexer": "ipython3",
   "version": "3.6.5"
  }
 },
 "nbformat": 4,
 "nbformat_minor": 2
}
